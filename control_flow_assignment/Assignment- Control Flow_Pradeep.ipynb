{
 "cells": [
  {
   "cell_type": "markdown",
   "metadata": {},
   "source": [
    "---\n",
    "---\n",
    "\n",
    "<center><h1>📍 📍 Assignment: Control Flow 📍 📍</h1></center>\n",
    "\n",
    "---\n",
    "\n",
    "***Take 3 inputs from the user***\n",
    "\n",
    " -  **What is your Age?**    (Answer will be an Intger value)\n",
    " -  **Do you eat Pizza?**    (Yes/No)\n",
    " -  **Do you do exercise?**  (Yes/No)\n",
    "\n",
    "#### `Write the if else condition for the given flow chart.`\n",
    "\n",
    "![](image/control-flow.png)"
   ]
  },
  {
   "cell_type": "code",
   "execution_count": 17,
   "metadata": {},
   "outputs": [
    {
     "name": "stdout",
     "output_type": "stream",
     "text": [
      "What's your age?29\n"
     ]
    }
   ],
   "source": [
    "# What is your Age?\n",
    "Age=int(input('What\\'s your age?'))\n"
   ]
  },
  {
   "cell_type": "code",
   "execution_count": 11,
   "metadata": {},
   "outputs": [
    {
     "name": "stdout",
     "output_type": "stream",
     "text": [
      "Do you eat pizza?yes\n"
     ]
    }
   ],
   "source": [
    "# Do you eat Pizza?\n",
    "pizza=input('Do you eat pizza?')"
   ]
  },
  {
   "cell_type": "code",
   "execution_count": 5,
   "metadata": {},
   "outputs": [
    {
     "name": "stdout",
     "output_type": "stream",
     "text": [
      "Do you exercise? yes\n"
     ]
    }
   ],
   "source": [
    "# Do you do exercise? \n",
    "exercise=input('Do you exercise? ')"
   ]
  },
  {
   "cell_type": "code",
   "execution_count": 18,
   "metadata": {},
   "outputs": [
    {
     "name": "stdout",
     "output_type": "stream",
     "text": [
      "1.unfit\n"
     ]
    }
   ],
   "source": [
    "if Age<30:\n",
    "    if (pizza=='yes'):\n",
    "        print('1.unfit')\n",
    "    else: print('1.fit')\n",
    "\n",
    "else:\n",
    "    if (exercise=='yes'):\n",
    "        print('2.fit')\n",
    "    else: print('2.unfit')\n",
    "        "
   ]
  },
  {
   "cell_type": "code",
   "execution_count": null,
   "metadata": {
    "scrolled": true
   },
   "outputs": [],
   "source": [
    "\n",
    "        "
   ]
  },
  {
   "cell_type": "code",
   "execution_count": null,
   "metadata": {},
   "outputs": [],
   "source": [
    "\n",
    "    \n",
    "    \n",
    "    "
   ]
  },
  {
   "cell_type": "code",
   "execution_count": null,
   "metadata": {},
   "outputs": [],
   "source": []
  }
 ],
 "metadata": {
  "kernelspec": {
   "display_name": "Python 3",
   "language": "python",
   "name": "python3"
  },
  "language_info": {
   "codemirror_mode": {
    "name": "ipython",
    "version": 3
   },
   "file_extension": ".py",
   "mimetype": "text/x-python",
   "name": "python",
   "nbconvert_exporter": "python",
   "pygments_lexer": "ipython3",
   "version": "3.8.5"
  }
 },
 "nbformat": 4,
 "nbformat_minor": 2
}
