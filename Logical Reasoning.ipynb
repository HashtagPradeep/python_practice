{
 "cells": [
  {
   "cell_type": "markdown",
   "metadata": {},
   "source": [
    "● 🙇 Who scored the highest marks in the subject B?\n",
    "● 🙇 What is the average marks scored in the subject C?\n",
    "● 🙇 Who scored the highest percentage of marks?\n",
    "● 🙇 If considered only top-4 subjects of a candidate, then who scored the highest\n",
    "percentage of marks?"
   ]
  },
  {
   "cell_type": "code",
   "execution_count": 1,
   "metadata": {},
   "outputs": [],
   "source": [
    "student_marks=[['Name',    ['A','B','C','D','E']],\n",
    "               ['Ankit',    [41, 34, 45, 55, 63]],\n",
    "               ['Aravindh', [42, 23, 34, 44, 53]],\n",
    "               ['Lakshay',  [32, 23, 13, 54, 67]],\n",
    "               ['Gyan',     [23, 82, 23, 64, 34]],\n",
    "               ['Pranav',   [21, 23, 25, 56, 56]]\n",
    "              ]\n"
   ]
  },
  {
   "cell_type": "markdown",
   "metadata": {},
   "source": [
    "● 🙇 Who scored the highest marks in the subject B?\n"
   ]
  },
  {
   "cell_type": "code",
   "execution_count": 2,
   "metadata": {},
   "outputs": [],
   "source": [
    "student_score=[]\n",
    "for i in student_marks[1:]:\n",
    "    \n",
    "    student_score.append([i[1][1],i[0]])\n",
    "    "
   ]
  },
  {
   "cell_type": "code",
   "execution_count": 3,
   "metadata": {},
   "outputs": [
    {
     "name": "stdout",
     "output_type": "stream",
     "text": [
      "[[34, 'Ankit'], [23, 'Aravindh'], [23, 'Lakshay'], [82, 'Gyan'], [23, 'Pranav']]\n"
     ]
    }
   ],
   "source": [
    "print(student_score)\n",
    "\n",
    "        "
   ]
  },
  {
   "cell_type": "code",
   "execution_count": 4,
   "metadata": {},
   "outputs": [
    {
     "data": {
      "text/plain": [
       "[[23, 'Aravindh'],\n",
       " [23, 'Lakshay'],\n",
       " [23, 'Pranav'],\n",
       " [34, 'Ankit'],\n",
       " [82, 'Gyan']]"
      ]
     },
     "execution_count": 4,
     "metadata": {},
     "output_type": "execute_result"
    }
   ],
   "source": [
    "sorted(student_score)"
   ]
  },
  {
   "cell_type": "code",
   "execution_count": 5,
   "metadata": {},
   "outputs": [],
   "source": [
    "sorted_score_student= sorted(student_score)"
   ]
  },
  {
   "cell_type": "code",
   "execution_count": 6,
   "metadata": {},
   "outputs": [
    {
     "data": {
      "text/plain": [
       "[82, 'Gyan']"
      ]
     },
     "execution_count": 6,
     "metadata": {},
     "output_type": "execute_result"
    }
   ],
   "source": [
    "sorted_score_student[-1]"
   ]
  },
  {
   "cell_type": "code",
   "execution_count": 7,
   "metadata": {},
   "outputs": [],
   "source": [
    "# What is the average marks scored in the subject C? "
   ]
  },
  {
   "cell_type": "code",
   "execution_count": 8,
   "metadata": {},
   "outputs": [
    {
     "data": {
      "text/plain": [
       "list"
      ]
     },
     "execution_count": 8,
     "metadata": {},
     "output_type": "execute_result"
    }
   ],
   "source": [
    "type(i)"
   ]
  },
  {
   "cell_type": "code",
   "execution_count": 9,
   "metadata": {},
   "outputs": [
    {
     "name": "stdout",
     "output_type": "stream",
     "text": [
      "45\n",
      "34\n",
      "13\n",
      "23\n",
      "25\n",
      "140\n",
      "28.0\n"
     ]
    }
   ],
   "source": [
    "x=0\n",
    "sum_1=0\n",
    "avg=0\n",
    "for i in student_marks[1:]:\n",
    "    x=x+1\n",
    "    \n",
    "    sum_1+=i[1][2]\n",
    "    print(i[1][2])\n",
    "print(sum_1)\n",
    "avg =sum_1/len(student_marks[1:])\n",
    "print(avg)"
   ]
  },
  {
   "cell_type": "code",
   "execution_count": 10,
   "metadata": {},
   "outputs": [],
   "source": [
    "#Who scored the highest percentage of marks?"
   ]
  },
  {
   "cell_type": "code",
   "execution_count": null,
   "metadata": {},
   "outputs": [],
   "source": [
    "\n",
    "    "
   ]
  },
  {
   "cell_type": "code",
   "execution_count": 20,
   "metadata": {},
   "outputs": [
    {
     "name": "stdout",
     "output_type": "stream",
     "text": [
      "calu % of sub 1\n",
      "[41, 34, 45, 55, 63]\n",
      "p% 47.6\n",
      "calu % of sub 2\n",
      "[42, 23, 34, 44, 53]\n",
      "p% 39.2\n",
      "calu % of sub 3\n",
      "[32, 23, 13, 54, 67]\n",
      "p% 37.8\n",
      "calu % of sub 4\n",
      "[23, 82, 23, 64, 34]\n",
      "p% 45.2\n",
      "calu % of sub 5\n",
      "[21, 23, 25, 56, 56]\n",
      "p% 36.2\n"
     ]
    }
   ],
   "source": [
    "x=0\n",
    "sumvar=0\n",
    "pervar=1\n",
    "\n",
    "for i in student_marks[1:]:\n",
    "    x=x+1\n",
    "    print('calu % of sub', x)\n",
    "    print(i[1])\n",
    "    sumvar=sum(i[1])\n",
    "    pervar=(sumvar*100)/(len(student_marks[1:])*100)\n",
    "    print('p%',pervar)\n",
    "    "
   ]
  },
  {
   "cell_type": "code",
   "execution_count": 13,
   "metadata": {},
   "outputs": [],
   "source": [
    "# If considered only top-4 subjects of a candidate, then who scored the highest percentage of marks?"
   ]
  },
  {
   "cell_type": "code",
   "execution_count": 14,
   "metadata": {},
   "outputs": [
    {
     "name": "stdout",
     "output_type": "stream",
     "text": [
      "[41, 45, 55, 63]\n",
      "204\n",
      "51.0 %\n",
      "[34, 42, 44, 53]\n",
      "173\n",
      "43.25 %\n",
      "[23, 32, 54, 67]\n",
      "176\n",
      "44.0 %\n",
      "[23, 34, 64, 82]\n",
      "203\n",
      "50.75 %\n",
      "[23, 25, 56, 56]\n",
      "160\n",
      "40.0 %\n",
      "Highest % holder\n",
      "[51.0, 'Ankit']\n"
     ]
    }
   ],
   "source": [
    "marks_list=[]\n",
    "sumtop4=0\n",
    "pertop4=1\n",
    "per_list=[]\n",
    "for i in student_marks[1:]:\n",
    "#     print(sorted(i[1]))\n",
    "    marks=sorted(i[1])[1:]\n",
    "    print(marks)\n",
    "    \n",
    "    sumtop4 = sum(marks)\n",
    "    print(sumtop4)\n",
    "    pertop4 = (sum(marks)*100)/(len(marks)*100)\n",
    "    print(pertop4,'%')\n",
    "    marks_list.append([i[0], marks, pertop4])\n",
    "    per_list.append([pertop4, i[0]])\n",
    "print(\"Highest % holder\")\n",
    "print(sorted(per_list)[-1])"
   ]
  },
  {
   "cell_type": "code",
   "execution_count": 15,
   "metadata": {},
   "outputs": [
    {
     "name": "stdout",
     "output_type": "stream",
     "text": [
      "[['Ankit', [41, 45, 55, 63], 51.0], ['Aravindh', [34, 42, 44, 53], 43.25], ['Lakshay', [23, 32, 54, 67], 44.0], ['Gyan', [23, 34, 64, 82], 50.75], ['Pranav', [23, 25, 56, 56], 40.0]]\n"
     ]
    }
   ],
   "source": [
    "print(marks_list)\n"
   ]
  },
  {
   "cell_type": "code",
   "execution_count": null,
   "metadata": {},
   "outputs": [],
   "source": []
  },
  {
   "cell_type": "code",
   "execution_count": null,
   "metadata": {},
   "outputs": [],
   "source": []
  },
  {
   "cell_type": "code",
   "execution_count": null,
   "metadata": {},
   "outputs": [],
   "source": []
  },
  {
   "cell_type": "code",
   "execution_count": null,
   "metadata": {},
   "outputs": [],
   "source": []
  }
 ],
 "metadata": {
  "kernelspec": {
   "display_name": "Python 3",
   "language": "python",
   "name": "python3"
  },
  "language_info": {
   "codemirror_mode": {
    "name": "ipython",
    "version": 3
   },
   "file_extension": ".py",
   "mimetype": "text/x-python",
   "name": "python",
   "nbconvert_exporter": "python",
   "pygments_lexer": "ipython3",
   "version": "3.8.5"
  }
 },
 "nbformat": 4,
 "nbformat_minor": 4
}
